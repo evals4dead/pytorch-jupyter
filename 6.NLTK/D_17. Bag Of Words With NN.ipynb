{
 "cells": [
  {
   "cell_type": "code",
   "execution_count": 31,
   "metadata": {},
   "outputs": [],
   "source": [
    "import codecs\n",
    "import pandas as pd\n",
    "\n",
    "from konlpy.tag import Okt as Twitter\n",
    "from sklearn.feature_extraction.text import CountVectorizer\n",
    "\n",
    "import torch\n",
    "import torch.nn as nn\n",
    "import torch.utils.data as Data\n",
    "\n",
    "import numpy as np\n",
    "import random\n",
    "\n",
    "from sklearn.model_selection import train_test_split"
   ]
  },
  {
   "cell_type": "code",
   "execution_count": 5,
   "metadata": {},
   "outputs": [],
   "source": [
    "import matplotlib.pyplot as plt\n",
    "%matplotlib inline"
   ]
  },
  {
   "cell_type": "markdown",
   "metadata": {},
   "source": [
    "# Prepare Data"
   ]
  },
  {
   "cell_type": "code",
   "execution_count": 6,
   "metadata": {},
   "outputs": [
    {
     "data": {
      "text/plain": [
       "'# G마켓에 좋은 평만 있어서 사봤는데.. 정말 진짜 진짜 사지마세요. 개. 쓰. 레. 기 (진심) 입니다. 액정부터 짜증나는 TN패널에, 하드 SSD인걸로 알았는데, 속도는 저질 SD카드 꽂아 놓은것 같습니다. 정말 느려터집니다. 저는 단지 인터넷 뱅킹만 할려고, 샀단 말입니다. 그런데 인터넷 뱅킹 프로그램까는데만 10~20분 걸립니다. 뭐약!! 이게!! 분노로 인해 볼때마다 짜증납니다. 밤에 잠도 안오고요.. 사시면 분명 후회하실겁니다. 아! 진짜 G마켓 프리미엄평으로 실날하게 사진찍어서 올리려고했는데, 먹고 산다고 바빠서 프리미엄 평 못 올린게 정말 천추의 한이네요!!\\n# 원래 그런 줄 알고 사는 \"저가 제품\"이라고 생각합니다만. IPS라는 언급이 없으니 당연히 TN 패널일 테고, EMMC는 SSD가 아니고 SD 카드 내장된 것 같은 것이라 원래 SSD보다 느린 것이고, CPU도 아톰이니 뭐 당연히 느리죠. 그런 것 다 감안하고 \"싸고 가볍다\"는 조건으로 사는 제품인데요. 뭐 '"
      ]
     },
     "execution_count": 6,
     "metadata": {},
     "output_type": "execute_result"
    }
   ],
   "source": [
    "f = codecs.open('data/reviews.txt', 'r', 'utf-8')\n",
    "f.read()[:500]"
   ]
  },
  {
   "cell_type": "markdown",
   "metadata": {},
   "source": [
    "# Extract Sentences"
   ]
  },
  {
   "cell_type": "code",
   "execution_count": 7,
   "metadata": {},
   "outputs": [],
   "source": [
    "keywords = [\"발열\", \"소음\"]\n",
    "\n",
    "for keyword in keywords:\n",
    "    temp_list = []\n",
    "    save_name = \"data/reviews_\" + keyword + \".txt\"\n",
    "    f = codecs.open(\"data/reviews.txt\", \"r\", \"utf-8\")\n",
    "    t = codecs.open(save_name, \"w\", \"utf-8\")\n",
    "    \n",
    "    while True:\n",
    "        line = f.readline()\n",
    "        if not line: break\n",
    "        if keyword in line:\n",
    "            temp_list.append(line)\n",
    "    set_list = list(set(temp_list))\n",
    "    \n",
    "    for item in set_list:\n",
    "        t.write(item)\n",
    "\n",
    "    f.close()\n",
    "    t.close()"
   ]
  },
  {
   "cell_type": "code",
   "execution_count": 9,
   "metadata": {},
   "outputs": [
    {
     "data": {
      "text/plain": [
       "'# 노트북 진짜로 디자인 깔끔하고 이뻐요! 오피스깔고 기타프로그램 설치하는것도 빨라요! 써봐야 알겠지만 발열도 거의 없고 쿨링팬 소음도 거의 없어요! 노트북 어느정도 크긴 큰데 상당히 가벼워요 대박! 가성비 짱짱 인거 같아연>\\n# 맨처음 상자 열어서 꺼내 들었을 때 깜짝놀랐어요 너무 가벼워요.얘가 넘 연약한거 아닌가 장난감인가 싶을 정도로 정말 가벼워서 놀랬어요 왠만한 책보다 가벼워요.렘 업그레이드 추가해서 구매했는데 잘 되어서 왔구요 .엄청 빠르고 좋아요. 소음도 한개도 없어요. 정말 조용해요 발열은 캠 있는부분 조금 따뜻한 느낌으로 있구요. 크게 신경쓰일 정도는 아니에요 노트북 가볍고 좋습니다.\\n# 맥북, 그램, 노트북9 중 뭐살지 일주일을 고민하다 결국 노트북9으로 결정했습니다.램도 듀얼채널이고 발열이나 터치패드 감도나 키감 등이 다 최상위권 인것 같습니다. 무게에 너무 집중하여 많은 기본기를 잃은 그램보다는 노트북9이 한수 위라고 생각되네요.맥북하고 고민은 많이 했습니다. 디'"
      ]
     },
     "execution_count": 9,
     "metadata": {},
     "output_type": "execute_result"
    }
   ],
   "source": [
    "f = codecs.open('data/reviews_발열.txt', 'r', 'utf-8')\n",
    "f.read()[:500]"
   ]
  },
  {
   "cell_type": "markdown",
   "metadata": {},
   "source": [
    "# Load Scored Data"
   ]
  },
  {
   "cell_type": "code",
   "execution_count": 10,
   "metadata": {},
   "outputs": [],
   "source": [
    "filename = 'data/score_발열.xlsx'\n",
    "sheet_name = 'Sheet1'\n",
    "data = pd.read_excel(filename, sheet_name=sheet_name, header=0)\n",
    "\n",
    "csv_data = [item.replace('#', '').strip() for item in data['Review']]\n",
    "csv_label = data['Score']"
   ]
  },
  {
   "cell_type": "code",
   "execution_count": 14,
   "metadata": {},
   "outputs": [
    {
     "data": {
      "text/plain": [
       "(['발열히 심한거 같은데 여름이라 그런가?..',\n",
       "  '발열이좀 심한거 같아서 걱정이에요',\n",
       "  '발열이심하더라구요',\n",
       "  '발열이너무심한게 제일큰 단점인것 같고 그외에 불편한점은',\n",
       "  '발열이...정말...심합니다'],\n",
       " 0    2\n",
       " 1    2\n",
       " 2    2\n",
       " 3    2\n",
       " 4    2\n",
       " Name: Score, dtype: int64)"
      ]
     },
     "execution_count": 14,
     "metadata": {},
     "output_type": "execute_result"
    }
   ],
   "source": [
    "csv_data[:5], csv_label[:5]"
   ]
  },
  {
   "cell_type": "code",
   "execution_count": 15,
   "metadata": {},
   "outputs": [
    {
     "data": {
      "text/plain": [
       "[703, 370, 138]"
      ]
     },
     "execution_count": 15,
     "metadata": {},
     "output_type": "execute_result"
    }
   ],
   "source": [
    "scores = [sum(csv_label == 0), sum(csv_label == 1), sum(csv_label == 2)]\n",
    "scores"
   ]
  },
  {
   "cell_type": "code",
   "execution_count": 18,
   "metadata": {},
   "outputs": [
    {
     "data": {
      "image/png": "[encoded data removed]",
      "text/plain": [
       "<Figure size 432x288 with 1 Axes>"
      ]
     },
     "metadata": {},
     "output_type": "display_data"
    }
   ],
   "source": [
    "plt.bar(range(len(scores)), scores, color = \"#ff5733\")\n",
    "plt.title(\"Average Laptop's Score Of Heat\")\n",
    "plt.xlabel(\"Heat Score\")\n",
    "plt.ylabel(\"Reviews\")\n",
    "plt.show()"
   ]
  },
  {
   "cell_type": "markdown",
   "metadata": {},
   "source": [
    "# Bag Of Words"
   ]
  },
  {
   "cell_type": "code",
   "execution_count": 34,
   "metadata": {},
   "outputs": [],
   "source": [
    "twitter = Twitter()\n",
    "doc = []\n",
    "\n",
    "for sentence in csv_data:\n",
    "    results = []\n",
    "    tokens = twitter.pos(sentence, norm=True, stem=True)\n",
    "    for token in tokens:\n",
    "        if not token[1] in [\"Josa\", \"Eomi\", \"Punctuation\"]:\n",
    "            results.append(token[0])\n",
    "    doc.append(\" \".join(results).strip())"
   ]
  },
  {
   "cell_type": "code",
   "execution_count": 35,
   "metadata": {},
   "outputs": [
    {
     "data": {
      "text/plain": [
       "['발열 히 심하다 같다 여름 그 런가',\n",
       " '발열 이 좀 심하다 같다 걱정',\n",
       " '발열 심하다',\n",
       " '발열 이 너 무심하다 제일 크다 단점 것 같다 그 외 불편하다 점',\n",
       " '발열 정말 심하다']"
      ]
     },
     "execution_count": 35,
     "metadata": {},
     "output_type": "execute_result"
    }
   ],
   "source": [
    "doc[:5]"
   ]
  },
  {
   "cell_type": "code",
   "execution_count": 38,
   "metadata": {},
   "outputs": [
    {
     "name": "stdout",
     "output_type": "stream",
     "text": [
      "[0 0 0 0 0 0 0 0 0 0 0 0 0 1 0 0 0 0 0 0 0 0 0 0 0 0 0 0 0 0 0 0 0 0 0 0 0\n",
      " 0 0 0 0 0 0 0 0 0 0 0 0 0 0 0 0 0 0 0 0 0 0 0 0 0 0 0 0 0 0 0 0 0 0 0 0 0\n",
      " 0 0 0 0 0 0 0 0 0 0 0 0 0 0 0 0 0 0 0 0 0 0 0 0 0 0 0 0 0 0 0 0 0 0 0 0 0\n",
      " 0 1 0 0 0 0 0 0 0 0 0 0 0 0 0 0 0 0 0 0 0 0 0 0 0 0 0 0 0 0 0 0 0 0 0 0 0\n",
      " 0 0 0 0 0 0 0 0 1 0 0 0 0 0 0 0 0 0 0 0 0 0 0 0 0 0 0 0 0 0 0 0 0 0 0 0 0\n",
      " 0 0 1 0 0 0 0 0 0 0 0 0 0 0 0 0 0 0 0 0 0 0 0 0 0 0 0 0 0 0 0 0 0 0 0 0 0\n",
      " 0 0 0 0 0 0 0 0 0 0 0 0 0 0 0 0 0 0 0 0 0 0 0 0 0 0 0 0 0 0 0 0 0 0 0 0 0\n",
      " 0 0 0 0 0 0 0 0 0 0 0 0 0 0 0 0 0 0 0 0 0 0 0 0 0 0 0 0 0 0 0 0 0 0 0 0]\n",
      "[2 2 2 ... 0 0 0]\n"
     ]
    }
   ],
   "source": [
    "cnv = CountVectorizer(ngram_range=(1, 1), min_df = 3)\n",
    "\n",
    "data = cnv.fit_transform(doc).toarray()\n",
    "print(data[0])\n",
    "label = csv_label.values\n",
    "print(label)"
   ]
  },
  {
   "cell_type": "code",
   "execution_count": 39,
   "metadata": {},
   "outputs": [
    {
     "data": {
      "text/plain": [
       "{'발열': 112,\n",
       " '심하다': 156,\n",
       " '같다': 13,\n",
       " '여름': 187,\n",
       " '걱정': 16,\n",
       " '무심하다': 104,\n",
       " '크다': 266,\n",
       " '단점': 57,\n",
       " '불편하다': 125,\n",
       " '정말': 237,\n",
       " '확실하다': 292,\n",
       " '심해': 157,\n",
       " '노트북': 45,\n",
       " '쿨러': 263,\n",
       " '사용': 134,\n",
       " '크게': 265,\n",
       " '진짜': 250,\n",
       " '너무': 43,\n",
       " '많이': 93,\n",
       " '있다': 218,\n",
       " '장시간': 228,\n",
       " '높다': 47,\n",
       " '프로그램': 275,\n",
       " '한편': 283,\n",
       " '이다': 204,\n",
       " '심다': 155,\n",
       " '밧데리': 113,\n",
       " 'cpu': 4,\n",
       " '용량': 200,\n",
       " '빼다': 131,\n",
       " '괜찮다': 22,\n",
       " '느낌': 50,\n",
       " '하지만': 281,\n",
       " '자판': 221,\n",
       " '조금': 241,\n",
       " '속도': 149,\n",
       " '매우': 94,\n",
       " '좋다': 244,\n",
       " '이전': 211,\n",
       " '하다': 279,\n",
       " '뜨겁다': 83,\n",
       " '가볍다': 10,\n",
       " '조용하다': 242,\n",
       " '마음': 88,\n",
       " '듭니': 72,\n",
       " '돌아가다': 65,\n",
       " '불량': 124,\n",
       " '심해지다': 158,\n",
       " '생기다': 141,\n",
       " '소리': 147,\n",
       " '나다': 38,\n",
       " '그렇다': 31,\n",
       " '부분': 122,\n",
       " '문제': 107,\n",
       " '끊기다': 37,\n",
       " '쓰다': 160,\n",
       " '약간': 175,\n",
       " '게임': 18,\n",
       " '돌리다': 64,\n",
       " '정도': 236,\n",
       " '성능': 145,\n",
       " '라면': 85,\n",
       " '지다': 249,\n",
       " '이렇다': 206,\n",
       " '부팅': 123,\n",
       " '화상': 289,\n",
       " '원래': 202,\n",
       " '모르다': 100,\n",
       " '않다': 171,\n",
       " '구매': 24,\n",
       " '신분': 154,\n",
       " '야하다': 174,\n",
       " '제외': 239,\n",
       " '자주': 220,\n",
       " '발생': 111,\n",
       " '삼성': 137,\n",
       " '소음': 148,\n",
       " '치다': 259,\n",
       " '만족하다': 91,\n",
       " '배터리': 116,\n",
       " '빠르다': 128,\n",
       " '무엇': 105,\n",
       " '생각': 140,\n",
       " '하드': 280,\n",
       " '보드': 119,\n",
       " '왼쪽': 199,\n",
       " '상당하다': 138,\n",
       " '살짝': 136,\n",
       " '메탈': 95,\n",
       " '비다': 126,\n",
       " '비추다': 127,\n",
       " '휴대': 294,\n",
       " '다니다': 54,\n",
       " '많다': 92,\n",
       " '느리다': 51,\n",
       " '다른': 55,\n",
       " '제품': 240,\n",
       " '시간': 152,\n",
       " '센터': 146,\n",
       " '늘다': 52,\n",
       " '이제': 213,\n",
       " '조절': 243,\n",
       " '약하다': 176,\n",
       " '어쩔': 182,\n",
       " '전혀': 233,\n",
       " '잡지': 226,\n",
       " '해보다': 284,\n",
       " '편이': 271,\n",
       " '되다': 67,\n",
       " '화이트': 290,\n",
       " '다소': 56,\n",
       " '느껴지다': 48,\n",
       " '하나': 277,\n",
       " '따르다': 77,\n",
       " '내다': 42,\n",
       " '사양': 133,\n",
       " '낮다': 41,\n",
       " '양호': 178,\n",
       " '상태': 139,\n",
       " '차이': 253,\n",
       " '보다': 118,\n",
       " '수가': 150,\n",
       " '없다': 185,\n",
       " '인하다': 215,\n",
       " '지금': 248,\n",
       " '어떻다': 181,\n",
       " '또한': 81,\n",
       " '가격': 8,\n",
       " '때문': 79,\n",
       " '켜다': 262,\n",
       " '충전': 258,\n",
       " '능력': 53,\n",
       " '떨어지다': 80,\n",
       " '오래되다': 194,\n",
       " '자다': 219,\n",
       " '관리': 21,\n",
       " '돼다': 66,\n",
       " '걸리다': 17,\n",
       " '아니다': 163,\n",
       " '안되다': 169,\n",
       " '그냥': 26,\n",
       " '받침': 110,\n",
       " '절대': 234,\n",
       " '보이다': 120,\n",
       " '고민': 20,\n",
       " '빠지다': 130,\n",
       " '모두': 98,\n",
       " '한성': 282,\n",
       " '구성': 25,\n",
       " 'as': 3,\n",
       " '굉장하다': 23,\n",
       " '깔끔하다': 36,\n",
       " '이쁘다': 208,\n",
       " '모델': 97,\n",
       " '현상': 286,\n",
       " '50': 1,\n",
       " '준수': 246,\n",
       " '처리': 254,\n",
       " '잡다': 225,\n",
       " '얇다': 177,\n",
       " '오래': 193,\n",
       " '쓸다': 162,\n",
       " '일이': 217,\n",
       " '인터넷': 214,\n",
       " '100': 0,\n",
       " '그래픽': 28,\n",
       " '장점': 229,\n",
       " '훨씬': 293,\n",
       " '해소': 285,\n",
       " '패드': 269,\n",
       " '일어나서': 216,\n",
       " '쿨링': 264,\n",
       " '이상': 209,\n",
       " '기본': 35,\n",
       " '서비스': 142,\n",
       " '들다': 71,\n",
       " '사은': 135,\n",
       " '주다': 245,\n",
       " '어느': 180,\n",
       " '문서': 106,\n",
       " '작업': 223,\n",
       " '편입': 272,\n",
       " '아주': 166,\n",
       " '컴퓨터': 261,\n",
       " '배송': 115,\n",
       " '이정': 212,\n",
       " '무게': 102,\n",
       " '그램': 29,\n",
       " '두다': 69,\n",
       " '온도': 195,\n",
       " '아쉽다': 164,\n",
       " '그래도': 27,\n",
       " '예쁘다': 191,\n",
       " '따다': 75,\n",
       " '안나': 168,\n",
       " '디자인': 74,\n",
       " '가다': 9,\n",
       " '편하다': 273,\n",
       " '겨울': 19,\n",
       " '이면': 207,\n",
       " '나쁘다': 39,\n",
       " '필요': 276,\n",
       " '받다': 109,\n",
       " '액정': 173,\n",
       " '돌다': 63,\n",
       " '아예': 165,\n",
       " '레노버': 86,\n",
       " '처음': 255,\n",
       " '써다': 159,\n",
       " '얘기': 179,\n",
       " '느끼다': 49,\n",
       " '나오다': 40,\n",
       " '등등': 73,\n",
       " '데스크탑': 62,\n",
       " '연결': 189,\n",
       " '아직': 167,\n",
       " '수준': 151,\n",
       " '뜨다': 84,\n",
       " '사다': 132,\n",
       " '설치': 144,\n",
       " '평소': 274,\n",
       " '70': 2,\n",
       " '신경': 153,\n",
       " '쓰이다': 161,\n",
       " '노트': 44,\n",
       " '따뜻하다': 76,\n",
       " '최고': 256,\n",
       " 'ssd': 6,\n",
       " '카드': 260,\n",
       " '마감': 87,\n",
       " '없이': 186,\n",
       " '윈도우': 203,\n",
       " '보통': 121,\n",
       " '펴다': 270,\n",
       " '감다': 12,\n",
       " '별로': 117,\n",
       " '화면': 288,\n",
       " 'ㅜㅜ': 7,\n",
       " '엄청': 183,\n",
       " '개선': 14,\n",
       " '차다': 252,\n",
       " '완벽하다': 196,\n",
       " '열량': 190,\n",
       " '빠릿빠릿': 129,\n",
       " '그렇게': 30,\n",
       " '기능': 33,\n",
       " '오다': 192,\n",
       " '모니터': 96,\n",
       " '적당하다': 232,\n",
       " '던지다': 61,\n",
       " '거의': 15,\n",
       " '무겁다': 101,\n",
       " '추천': 257,\n",
       " '만족': 89,\n",
       " '그리다': 32,\n",
       " '대다': 58,\n",
       " '대비': 60,\n",
       " '딱하다': 78,\n",
       " '뒤틀리다': 70,\n",
       " '짧다': 251,\n",
       " '모든': 99,\n",
       " '제어': 238,\n",
       " '완전': 197,\n",
       " '기다': 34,\n",
       " '알다': 172,\n",
       " '가성': 11,\n",
       " '잡히다': 227,\n",
       " '우수하다': 201,\n",
       " '증상': 247,\n",
       " '뛰어나다': 82,\n",
       " '되어다': 68,\n",
       " '적다': 231,\n",
       " '선택': 143,\n",
       " '만족스럽다': 90,\n",
       " '현재': 287,\n",
       " '화질': 291,\n",
       " '특히': 267,\n",
       " '하니': 278,\n",
       " '이렇게': 205,\n",
       " '놀라다': 46,\n",
       " '점수': 235,\n",
       " '물론': 108,\n",
       " '무리': 103,\n",
       " '외관': 198,\n",
       " '대단하다': 59,\n",
       " '역시': 188,\n",
       " '작다': 222,\n",
       " '저렴하다': 230,\n",
       " '잡고': 224,\n",
       " '엄청나다': 184,\n",
       " 'ips': 5,\n",
       " '패널': 268,\n",
       " '안심': 170,\n",
       " '배그': 114,\n",
       " '이슈': 210}"
      ]
     },
     "execution_count": 39,
     "metadata": {},
     "output_type": "execute_result"
    }
   ],
   "source": [
    "cnv.vocabulary_"
   ]
  },
  {
   "cell_type": "markdown",
   "metadata": {},
   "source": [
    "# Train-Test Split"
   ]
  },
  {
   "cell_type": "code",
   "execution_count": 40,
   "metadata": {},
   "outputs": [],
   "source": [
    "dim = len(cnv.vocabulary_)"
   ]
  },
  {
   "cell_type": "code",
   "execution_count": 41,
   "metadata": {},
   "outputs": [
    {
     "name": "stdout",
     "output_type": "stream",
     "text": [
      "908\n",
      "303\n"
     ]
    }
   ],
   "source": [
    "train_data, test_data, train_label, test_label = train_test_split(data, label, stratify = label)\n",
    "\n",
    "print(len(train_data))\n",
    "print(len(test_data))"
   ]
  },
  {
   "cell_type": "code",
   "execution_count": 45,
   "metadata": {},
   "outputs": [],
   "source": [
    "x = torch.from_numpy(train_data).type(torch.FloatTensor)\n",
    "y = torch.from_numpy(train_label).type(torch.LongTensor)"
   ]
  },
  {
   "cell_type": "code",
   "execution_count": 46,
   "metadata": {},
   "outputs": [
    {
     "data": {
      "text/plain": [
       "(torch.Size([908]), torch.Size([908, 295]))"
      ]
     },
     "execution_count": 46,
     "metadata": {},
     "output_type": "execute_result"
    }
   ],
   "source": [
    "y.size(), x.size()"
   ]
  },
  {
   "cell_type": "code",
   "execution_count": 47,
   "metadata": {},
   "outputs": [],
   "source": [
    "train_data = Data.TensorDataset(x, y)\n",
    "batch_size = 10\n",
    "train_loader = Data.DataLoader(dataset=train_data, batch_size=batch_size, shuffle=True, num_workers=1, drop_last=True)"
   ]
  },
  {
   "cell_type": "markdown",
   "metadata": {},
   "source": [
    "# Define and Train Model"
   ]
  },
  {
   "cell_type": "code",
   "execution_count": 48,
   "metadata": {},
   "outputs": [],
   "source": [
    "linear1 = nn.Linear(dim, 200, bias=True)\n",
    "linear2 = nn.Linear(200, 3, bias=True)\n",
    "\n",
    "relu = nn.ReLU()\n",
    "\n",
    "model = nn.Sequential(linear1, relu, linear2)"
   ]
  },
  {
   "cell_type": "code",
   "execution_count": 49,
   "metadata": {},
   "outputs": [],
   "source": [
    "loss = torch.nn.CrossEntropyLoss()\n",
    "optimizer = torch.optim.Adam(model.parameters(), lr = 0.001)"
   ]
  },
  {
   "cell_type": "code",
   "execution_count": 50,
   "metadata": {},
   "outputs": [],
   "source": [
    "num_epochs = 50"
   ]
  },
  {
   "cell_type": "code",
   "execution_count": 51,
   "metadata": {},
   "outputs": [
    {
     "name": "stdout",
     "output_type": "stream",
     "text": [
      "Epoch [1/50], lter [20/90] Loss: 0.9397\n",
      "Epoch [1/50], lter [40/90] Loss: 1.0582\n",
      "Epoch [1/50], lter [60/90] Loss: 0.6918\n",
      "Epoch [1/50], lter [80/90] Loss: 0.9955\n",
      "Epoch [2/50], lter [20/90] Loss: 0.5593\n",
      "Epoch [2/50], lter [40/90] Loss: 0.7867\n",
      "Epoch [2/50], lter [60/90] Loss: 0.7392\n",
      "Epoch [2/50], lter [80/90] Loss: 0.5639\n",
      "Epoch [3/50], lter [20/90] Loss: 0.5588\n",
      "Epoch [3/50], lter [40/90] Loss: 0.2007\n",
      "Epoch [3/50], lter [60/90] Loss: 0.5443\n",
      "Epoch [3/50], lter [80/90] Loss: 0.7605\n",
      "Epoch [4/50], lter [20/90] Loss: 0.3347\n",
      "Epoch [4/50], lter [40/90] Loss: 0.2876\n",
      "Epoch [4/50], lter [60/90] Loss: 0.3186\n",
      "Epoch [4/50], lter [80/90] Loss: 0.1204\n",
      "Epoch [5/50], lter [20/90] Loss: 0.2242\n",
      "Epoch [5/50], lter [40/90] Loss: 0.2342\n",
      "Epoch [5/50], lter [60/90] Loss: 0.2593\n",
      "Epoch [5/50], lter [80/90] Loss: 0.2537\n",
      "Epoch [6/50], lter [20/90] Loss: 0.1300\n",
      "Epoch [6/50], lter [40/90] Loss: 0.0357\n",
      "Epoch [6/50], lter [60/90] Loss: 0.0259\n",
      "Epoch [6/50], lter [80/90] Loss: 0.1675\n",
      "Epoch [7/50], lter [20/90] Loss: 0.2138\n",
      "Epoch [7/50], lter [40/90] Loss: 0.4376\n",
      "Epoch [7/50], lter [60/90] Loss: 0.0965\n",
      "Epoch [7/50], lter [80/90] Loss: 0.0560\n",
      "Epoch [8/50], lter [20/90] Loss: 0.1270\n",
      "Epoch [8/50], lter [40/90] Loss: 0.3336\n",
      "Epoch [8/50], lter [60/90] Loss: 0.0553\n",
      "Epoch [8/50], lter [80/90] Loss: 0.1827\n",
      "Epoch [9/50], lter [20/90] Loss: 0.0418\n",
      "Epoch [9/50], lter [40/90] Loss: 0.0410\n",
      "Epoch [9/50], lter [60/90] Loss: 0.0784\n",
      "Epoch [9/50], lter [80/90] Loss: 0.0537\n",
      "Epoch [10/50], lter [20/90] Loss: 0.0255\n",
      "Epoch [10/50], lter [40/90] Loss: 0.0887\n",
      "Epoch [10/50], lter [60/90] Loss: 0.0166\n",
      "Epoch [10/50], lter [80/90] Loss: 0.1605\n",
      "Epoch [11/50], lter [20/90] Loss: 0.2510\n",
      "Epoch [11/50], lter [40/90] Loss: 0.1777\n",
      "Epoch [11/50], lter [60/90] Loss: 0.0817\n",
      "Epoch [11/50], lter [80/90] Loss: 0.1495\n",
      "Epoch [12/50], lter [20/90] Loss: 0.0172\n",
      "Epoch [12/50], lter [40/90] Loss: 0.2455\n",
      "Epoch [12/50], lter [60/90] Loss: 0.1127\n",
      "Epoch [12/50], lter [80/90] Loss: 0.0146\n",
      "Epoch [13/50], lter [20/90] Loss: 0.0710\n",
      "Epoch [13/50], lter [40/90] Loss: 0.2949\n",
      "Epoch [13/50], lter [60/90] Loss: 0.0410\n",
      "Epoch [13/50], lter [80/90] Loss: 0.2250\n",
      "Epoch [14/50], lter [20/90] Loss: 0.0416\n",
      "Epoch [14/50], lter [40/90] Loss: 0.0392\n",
      "Epoch [14/50], lter [60/90] Loss: 0.0666\n",
      "Epoch [14/50], lter [80/90] Loss: 0.1212\n",
      "Epoch [15/50], lter [20/90] Loss: 0.0504\n",
      "Epoch [15/50], lter [40/90] Loss: 0.0308\n",
      "Epoch [15/50], lter [60/90] Loss: 0.1780\n",
      "Epoch [15/50], lter [80/90] Loss: 0.1136\n",
      "Epoch [16/50], lter [20/90] Loss: 0.1210\n",
      "Epoch [16/50], lter [40/90] Loss: 0.0219\n",
      "Epoch [16/50], lter [60/90] Loss: 0.2426\n",
      "Epoch [16/50], lter [80/90] Loss: 0.0387\n",
      "Epoch [17/50], lter [20/90] Loss: 0.3101\n",
      "Epoch [17/50], lter [40/90] Loss: 0.0223\n",
      "Epoch [17/50], lter [60/90] Loss: 0.0493\n",
      "Epoch [17/50], lter [80/90] Loss: 0.0724\n",
      "Epoch [18/50], lter [20/90] Loss: 0.0093\n",
      "Epoch [18/50], lter [40/90] Loss: 0.0206\n",
      "Epoch [18/50], lter [60/90] Loss: 0.2089\n",
      "Epoch [18/50], lter [80/90] Loss: 0.0450\n",
      "Epoch [19/50], lter [20/90] Loss: 0.0260\n",
      "Epoch [19/50], lter [40/90] Loss: 0.0639\n",
      "Epoch [19/50], lter [60/90] Loss: 0.0568\n",
      "Epoch [19/50], lter [80/90] Loss: 0.0962\n",
      "Epoch [20/50], lter [20/90] Loss: 0.0865\n",
      "Epoch [20/50], lter [40/90] Loss: 0.2036\n",
      "Epoch [20/50], lter [60/90] Loss: 0.1184\n",
      "Epoch [20/50], lter [80/90] Loss: 0.0877\n",
      "Epoch [21/50], lter [20/90] Loss: 0.1035\n",
      "Epoch [21/50], lter [40/90] Loss: 0.0143\n",
      "Epoch [21/50], lter [60/90] Loss: 0.0011\n",
      "Epoch [21/50], lter [80/90] Loss: 0.0076\n",
      "Epoch [22/50], lter [20/90] Loss: 0.0146\n",
      "Epoch [22/50], lter [40/90] Loss: 0.0459\n",
      "Epoch [22/50], lter [60/90] Loss: 0.0193\n",
      "Epoch [22/50], lter [80/90] Loss: 0.0037\n",
      "Epoch [23/50], lter [20/90] Loss: 0.2572\n",
      "Epoch [23/50], lter [40/90] Loss: 0.1219\n",
      "Epoch [23/50], lter [60/90] Loss: 0.0070\n",
      "Epoch [23/50], lter [80/90] Loss: 0.0407\n",
      "Epoch [24/50], lter [20/90] Loss: 0.0198\n",
      "Epoch [24/50], lter [40/90] Loss: 0.0292\n",
      "Epoch [24/50], lter [60/90] Loss: 0.1019\n",
      "Epoch [24/50], lter [80/90] Loss: 0.0251\n",
      "Epoch [25/50], lter [20/90] Loss: 0.2734\n",
      "Epoch [25/50], lter [40/90] Loss: 0.0072\n",
      "Epoch [25/50], lter [60/90] Loss: 0.0455\n",
      "Epoch [25/50], lter [80/90] Loss: 0.0672\n",
      "Epoch [26/50], lter [20/90] Loss: 0.0506\n",
      "Epoch [26/50], lter [40/90] Loss: 0.0301\n",
      "Epoch [26/50], lter [60/90] Loss: 0.0777\n",
      "Epoch [26/50], lter [80/90] Loss: 0.1269\n",
      "Epoch [27/50], lter [20/90] Loss: 0.1848\n",
      "Epoch [27/50], lter [40/90] Loss: 0.3114\n",
      "Epoch [27/50], lter [60/90] Loss: 0.1486\n",
      "Epoch [27/50], lter [80/90] Loss: 0.0974\n",
      "Epoch [28/50], lter [20/90] Loss: 0.0604\n",
      "Epoch [28/50], lter [40/90] Loss: 0.0875\n",
      "Epoch [28/50], lter [60/90] Loss: 0.0635\n",
      "Epoch [28/50], lter [80/90] Loss: 0.0265\n",
      "Epoch [29/50], lter [20/90] Loss: 0.0006\n",
      "Epoch [29/50], lter [40/90] Loss: 0.0438\n",
      "Epoch [29/50], lter [60/90] Loss: 0.0072\n",
      "Epoch [29/50], lter [80/90] Loss: 0.0688\n",
      "Epoch [30/50], lter [20/90] Loss: 0.1097\n",
      "Epoch [30/50], lter [40/90] Loss: 0.0215\n",
      "Epoch [30/50], lter [60/90] Loss: 0.0049\n",
      "Epoch [30/50], lter [80/90] Loss: 0.0014\n",
      "Epoch [31/50], lter [20/90] Loss: 0.3104\n",
      "Epoch [31/50], lter [40/90] Loss: 0.0026\n",
      "Epoch [31/50], lter [60/90] Loss: 0.0924\n",
      "Epoch [31/50], lter [80/90] Loss: 0.1702\n",
      "Epoch [32/50], lter [20/90] Loss: 0.0018\n",
      "Epoch [32/50], lter [40/90] Loss: 0.0010\n",
      "Epoch [32/50], lter [60/90] Loss: 0.1434\n",
      "Epoch [32/50], lter [80/90] Loss: 0.0176\n",
      "Epoch [33/50], lter [20/90] Loss: 0.0915\n",
      "Epoch [33/50], lter [40/90] Loss: 0.0016\n",
      "Epoch [33/50], lter [60/90] Loss: 0.0006\n",
      "Epoch [33/50], lter [80/90] Loss: 0.0119\n",
      "Epoch [34/50], lter [20/90] Loss: 0.0256\n",
      "Epoch [34/50], lter [40/90] Loss: 0.0039\n",
      "Epoch [34/50], lter [60/90] Loss: 0.1311\n",
      "Epoch [34/50], lter [80/90] Loss: 0.0127\n",
      "Epoch [35/50], lter [20/90] Loss: 0.0339\n",
      "Epoch [35/50], lter [40/90] Loss: 0.0031\n",
      "Epoch [35/50], lter [60/90] Loss: 0.2653\n",
      "Epoch [35/50], lter [80/90] Loss: 0.0746\n",
      "Epoch [36/50], lter [20/90] Loss: 0.0207\n",
      "Epoch [36/50], lter [40/90] Loss: 0.0165\n",
      "Epoch [36/50], lter [60/90] Loss: 0.1627\n",
      "Epoch [36/50], lter [80/90] Loss: 0.0015\n",
      "Epoch [37/50], lter [20/90] Loss: 0.2720\n",
      "Epoch [37/50], lter [40/90] Loss: 0.0059\n",
      "Epoch [37/50], lter [60/90] Loss: 0.0129\n",
      "Epoch [37/50], lter [80/90] Loss: 0.0258\n",
      "Epoch [38/50], lter [20/90] Loss: 0.0605\n",
      "Epoch [38/50], lter [40/90] Loss: 0.0136\n",
      "Epoch [38/50], lter [60/90] Loss: 0.1297\n",
      "Epoch [38/50], lter [80/90] Loss: 0.0011\n",
      "Epoch [39/50], lter [20/90] Loss: 0.0175\n",
      "Epoch [39/50], lter [40/90] Loss: 0.1273\n",
      "Epoch [39/50], lter [60/90] Loss: 0.0002\n",
      "Epoch [39/50], lter [80/90] Loss: 0.0487\n",
      "Epoch [40/50], lter [20/90] Loss: 0.0018\n",
      "Epoch [40/50], lter [40/90] Loss: 0.0700\n",
      "Epoch [40/50], lter [60/90] Loss: 0.2771\n",
      "Epoch [40/50], lter [80/90] Loss: 0.4847\n",
      "Epoch [41/50], lter [20/90] Loss: 0.0686\n",
      "Epoch [41/50], lter [40/90] Loss: 0.0546\n",
      "Epoch [41/50], lter [60/90] Loss: 0.0925\n",
      "Epoch [41/50], lter [80/90] Loss: 0.1455\n",
      "Epoch [42/50], lter [20/90] Loss: 0.1863\n",
      "Epoch [42/50], lter [40/90] Loss: 0.0729\n",
      "Epoch [42/50], lter [60/90] Loss: 0.0465\n",
      "Epoch [42/50], lter [80/90] Loss: 0.0103\n",
      "Epoch [43/50], lter [20/90] Loss: 0.2243\n",
      "Epoch [43/50], lter [40/90] Loss: 0.0072\n",
      "Epoch [43/50], lter [60/90] Loss: 0.0026\n",
      "Epoch [43/50], lter [80/90] Loss: 0.0021\n",
      "Epoch [44/50], lter [20/90] Loss: 0.0075\n",
      "Epoch [44/50], lter [40/90] Loss: 0.3901\n",
      "Epoch [44/50], lter [60/90] Loss: 0.0038\n",
      "Epoch [44/50], lter [80/90] Loss: 0.0097\n",
      "Epoch [45/50], lter [20/90] Loss: 0.0046\n",
      "Epoch [45/50], lter [40/90] Loss: 0.0105\n",
      "Epoch [45/50], lter [60/90] Loss: 0.0645\n",
      "Epoch [45/50], lter [80/90] Loss: 0.0011\n",
      "Epoch [46/50], lter [20/90] Loss: 0.0956\n",
      "Epoch [46/50], lter [40/90] Loss: 0.0007\n",
      "Epoch [46/50], lter [60/90] Loss: 0.0014\n",
      "Epoch [46/50], lter [80/90] Loss: 0.3716\n",
      "Epoch [47/50], lter [20/90] Loss: 0.0176\n",
      "Epoch [47/50], lter [40/90] Loss: 0.0010\n",
      "Epoch [47/50], lter [60/90] Loss: 0.0046\n",
      "Epoch [47/50], lter [80/90] Loss: 0.0131\n",
      "Epoch [48/50], lter [20/90] Loss: 0.0367\n",
      "Epoch [48/50], lter [40/90] Loss: 0.0047\n",
      "Epoch [48/50], lter [60/90] Loss: 0.0146\n",
      "Epoch [48/50], lter [80/90] Loss: 0.1327\n",
      "Epoch [49/50], lter [20/90] Loss: 0.0018\n",
      "Epoch [49/50], lter [40/90] Loss: 0.1641\n",
      "Epoch [49/50], lter [60/90] Loss: 0.0031\n",
      "Epoch [49/50], lter [80/90] Loss: 0.0798\n",
      "Epoch [50/50], lter [20/90] Loss: 0.0037\n",
      "Epoch [50/50], lter [40/90] Loss: 0.0241\n",
      "Epoch [50/50], lter [60/90] Loss: 0.0012\n",
      "Epoch [50/50], lter [80/90] Loss: 0.0071\n",
      "Learning Finished!\n"
     ]
    }
   ],
   "source": [
    "for epoch in range(num_epochs):\n",
    "    total_batch = len(train_data) // batch_size\n",
    "    for i, (batch_text, batch_labels) in enumerate(train_loader):\n",
    "        X = batch_text.view(-1, dim)\n",
    "        Y = batch_labels\n",
    "        \n",
    "        pre = model(X)\n",
    "        cost = loss(pre, Y)\n",
    "        \n",
    "        optimizer.zero_grad()\n",
    "        cost.backward()\n",
    "        optimizer.step()\n",
    "        \n",
    "        if (i + 1) % 20 == 0:\n",
    "            print('Epoch [%d/%d], lter [%d/%d] Loss: %.4f'\n",
    "                 %(epoch+1, num_epochs, i+1, total_batch, cost.item()))\n",
    "    \n",
    "print(\"Learning Finished!\")"
   ]
  },
  {
   "cell_type": "markdown",
   "metadata": {},
   "source": [
    "# Test Model"
   ]
  },
  {
   "cell_type": "code",
   "execution_count": 53,
   "metadata": {},
   "outputs": [],
   "source": [
    "x_test = torch.from_numpy(test_data).type(torch.FloatTensor)\n",
    "y_test = torch.from_numpy(test_label).type(torch.LongTensor)\n",
    "test_data = Data.TensorDataset(x_test, y_test)\n",
    "\n",
    "test_loader = Data.DataLoader(dataset=test_data, batch_size = 1, shuffle=True)"
   ]
  },
  {
   "cell_type": "code",
   "execution_count": 54,
   "metadata": {},
   "outputs": [
    {
     "name": "stdout",
     "output_type": "stream",
     "text": [
      "Accuracy of test text: 82.508251 %\n"
     ]
    }
   ],
   "source": [
    "model.eval()\n",
    "\n",
    "correct = 0\n",
    "total = 0\n",
    "\n",
    "for text, labels in test_loader:\n",
    "    text = text.view(-1, dim)\n",
    "    outputs = model(text)\n",
    "    \n",
    "    _, predicted = torch.max(outputs.data, 1)\n",
    "    total += 1\n",
    "    \n",
    "    correct += (predicted == labels).sum()\n",
    "    \n",
    "print(\"Accuracy of test text: %f %%\" % (100 * float(correct) / total))"
   ]
  },
  {
   "cell_type": "markdown",
   "metadata": {},
   "source": [
    "# Test Sentence"
   ]
  },
  {
   "cell_type": "code",
   "execution_count": 66,
   "metadata": {},
   "outputs": [],
   "source": [
    "def IsitHot(string):\n",
    "    results = []\n",
    "    tokens = twitter.pos(string, norm=True, stem=True)\n",
    "    \n",
    "    for token in tokens:\n",
    "        if not token[1] in [\"Josa\", \"Eomi\", \"Punctuation\"]:\n",
    "            results.append(token[0])\n",
    "            \n",
    "    sample = cnv.transform([\" \".join(results).strip()]).toarray()\n",
    "    sample = torch.from_numpy(sample).type(torch.FloatTensor)\n",
    "    outputs = model(sample)\n",
    "    pre = torch.max(outputs.data, 1)[1].numpy()\n",
    "    \n",
    "    if pre == 0:\n",
    "        print(\"분석 결과: 발열 거의 없음\")\n",
    "    elif pre == 1:\n",
    "        print(\"분석 결과: 발열 조금 있음\")\n",
    "    else:\n",
    "        print(\"분석 결과: 발열 매우 심함\")"
   ]
  },
  {
   "cell_type": "code",
   "execution_count": 68,
   "metadata": {},
   "outputs": [
    {
     "name": "stdout",
     "output_type": "stream",
     "text": [
      "분석 결과: 발열 매우 심함\n"
     ]
    }
   ],
   "source": [
    "IsitHot(\"노트북이 금방 뜨거워지더라고요\")"
   ]
  },
  {
   "cell_type": "code",
   "execution_count": 69,
   "metadata": {},
   "outputs": [
    {
     "name": "stdout",
     "output_type": "stream",
     "text": [
      "분석 결과: 발열 거의 없음\n"
     ]
    }
   ],
   "source": [
    "IsitHot(\"발열이 없는거 같이 느껴지네요\")"
   ]
  },
  {
   "cell_type": "code",
   "execution_count": null,
   "metadata": {},
   "outputs": [],
   "source": []
  }
 ],
 "metadata": {
  "kernelspec": {
   "display_name": "Python 3",
   "language": "python",
   "name": "python3"
  },
  "language_info": {
   "codemirror_mode": {
    "name": "ipython",
    "version": 3
   },
   "file_extension": ".py",
   "mimetype": "text/x-python",
   "name": "python",
   "nbconvert_exporter": "python",
   "pygments_lexer": "ipython3",
   "version": "3.6.5"
  }
 },
 "nbformat": 4,
 "nbformat_minor": 2
}
