{
 "cells": [
  {
   "cell_type": "code",
   "execution_count": 8,
   "metadata": {},
   "outputs": [],
   "source": [
    "import torch\n",
    "import torch.nn as nn\n",
    "import torch.optim as optim\n",
    "import torch.nn.functional as F\n",
    "\n",
    "\n",
    "import torchvision.utils as utils\n",
    "import torchvision.datasets as dsets\n",
    "import torchvision.transforms as transforms\n",
    "\n",
    "import numpy as np\n",
    "import random"
   ]
  },
  {
   "cell_type": "code",
   "execution_count": 3,
   "metadata": {},
   "outputs": [],
   "source": [
    "import matplotlib.pyplot as plt\n",
    "%matplotlib inline"
   ]
  },
  {
   "cell_type": "code",
   "execution_count": 4,
   "metadata": {},
   "outputs": [
    {
     "name": "stdout",
     "output_type": "stream",
     "text": [
      "Downloading http://yann.lecun.com/exdb/mnist/train-images-idx3-ubyte.gz\n",
      "Downloading http://yann.lecun.com/exdb/mnist/train-labels-idx1-ubyte.gz\n",
      "Downloading http://yann.lecun.com/exdb/mnist/t10k-images-idx3-ubyte.gz\n",
      "Downloading http://yann.lecun.com/exdb/mnist/t10k-labels-idx1-ubyte.gz\n",
      "Processing...\n",
      "Done!\n"
     ]
    }
   ],
   "source": [
    "mnist_train = dsets.MNIST(root='./data', train=True, transform=transforms.ToTensor(), download=True)\n",
    "mnist_test = dsets.MNIST(root='./data', train=False, transform=transforms.ToTensor(), download=True)"
   ]
  },
  {
   "cell_type": "code",
   "execution_count": 5,
   "metadata": {},
   "outputs": [
    {
     "data": {
      "text/plain": [
       "(torch.Size([60000, 28, 28]), torch.Size([10000, 28, 28]))"
      ]
     },
     "execution_count": 5,
     "metadata": {},
     "output_type": "execute_result"
    }
   ],
   "source": [
    "mnist_train.train_data.size(), mnist_test.test_data.size()"
   ]
  },
  {
   "cell_type": "code",
   "execution_count": 6,
   "metadata": {},
   "outputs": [],
   "source": [
    "batch_size = 100"
   ]
  },
  {
   "cell_type": "code",
   "execution_count": 7,
   "metadata": {},
   "outputs": [],
   "source": [
    "data_loader = torch.utils.data.DataLoader(dataset=mnist_train, batch_size=batch_size, shuffle=True, num_workers=1)"
   ]
  },
  {
   "cell_type": "code",
   "execution_count": 9,
   "metadata": {},
   "outputs": [],
   "source": [
    "class NeuralNet(nn.Module):\n",
    "    def __init__(self):\n",
    "        super(NeuralNet, self).__init__()\n",
    "        self.fc1 = nn.Linear(28 * 28, 512, bias=True)\n",
    "        self.fc2 = nn.Linear(512, 10, bias=True)\n",
    "        \n",
    "    def forward(self, x):\n",
    "        x = F.relu(self.fc1(x))\n",
    "        x = self.fc2(x)\n",
    "        \n",
    "        return x"
   ]
  },
  {
   "cell_type": "code",
   "execution_count": 16,
   "metadata": {},
   "outputs": [],
   "source": [
    "model = NeuralNet()\n",
    "loss = nn.CrossEntropyLoss()\n",
    "optimizer = optim.Adam(model.parameters(), lr=0.001)"
   ]
  },
  {
   "cell_type": "code",
   "execution_count": 17,
   "metadata": {},
   "outputs": [],
   "source": [
    "num_epochs = 5"
   ]
  },
  {
   "cell_type": "code",
   "execution_count": 18,
   "metadata": {},
   "outputs": [
    {
     "name": "stdout",
     "output_type": "stream",
     "text": [
      "Epoch [1/5], lter [100/600], Loss: 0.3072\n",
      "Epoch [1/5], lter [200/600], Loss: 0.2825\n",
      "Epoch [1/5], lter [300/600], Loss: 0.1029\n",
      "Epoch [1/5], lter [400/600], Loss: 0.1580\n",
      "Epoch [1/5], lter [500/600], Loss: 0.1006\n",
      "Epoch [1/5], lter [600/600], Loss: 0.1034\n",
      "Epoch [2/5], lter [100/600], Loss: 0.0777\n",
      "Epoch [2/5], lter [200/600], Loss: 0.0847\n",
      "Epoch [2/5], lter [300/600], Loss: 0.1488\n",
      "Epoch [2/5], lter [400/600], Loss: 0.0589\n",
      "Epoch [2/5], lter [500/600], Loss: 0.1203\n",
      "Epoch [2/5], lter [600/600], Loss: 0.0897\n",
      "Epoch [3/5], lter [100/600], Loss: 0.0776\n",
      "Epoch [3/5], lter [200/600], Loss: 0.1122\n",
      "Epoch [3/5], lter [300/600], Loss: 0.0811\n",
      "Epoch [3/5], lter [400/600], Loss: 0.0209\n",
      "Epoch [3/5], lter [500/600], Loss: 0.0473\n",
      "Epoch [3/5], lter [600/600], Loss: 0.0706\n",
      "Epoch [4/5], lter [100/600], Loss: 0.0841\n",
      "Epoch [4/5], lter [200/600], Loss: 0.0265\n",
      "Epoch [4/5], lter [300/600], Loss: 0.0501\n",
      "Epoch [4/5], lter [400/600], Loss: 0.0512\n",
      "Epoch [4/5], lter [500/600], Loss: 0.0186\n",
      "Epoch [4/5], lter [600/600], Loss: 0.0650\n",
      "Epoch [5/5], lter [100/600], Loss: 0.0118\n",
      "Epoch [5/5], lter [200/600], Loss: 0.0428\n",
      "Epoch [5/5], lter [300/600], Loss: 0.0323\n",
      "Epoch [5/5], lter [400/600], Loss: 0.0402\n",
      "Epoch [5/5], lter [500/600], Loss: 0.0161\n",
      "Epoch [5/5], lter [600/600], Loss: 0.0153\n"
     ]
    }
   ],
   "source": [
    "for epoch in range(num_epochs):\n",
    "    for i, (batch_images, batch_labels) in enumerate(data_loader):\n",
    "        X = batch_images.view(-1, 28 * 28)\n",
    "        Y = batch_labels\n",
    "        \n",
    "        pre = model(X)\n",
    "        cost = loss(pre, Y)\n",
    "        \n",
    "        optimizer.zero_grad()\n",
    "        cost.backward()\n",
    "        optimizer.step()\n",
    "        \n",
    "        if (i + 1) % 100 == 0:\n",
    "            print('Epoch [%d/%d], lter [%d/%d], Loss: %.4f'\n",
    "                 %(epoch+1, num_epochs, i+1, len(mnist_train) // batch_size, cost.item()))"
   ]
  },
  {
   "cell_type": "code",
   "execution_count": null,
   "metadata": {},
   "outputs": [],
   "source": [
    "model.eval()\n",
    "\n",
    "correct = 0\n",
    "total = 0\n",
    "\n",
    "for images, labels in mnist_test:\n",
    "    images = images.view(-1, 28 * 28)\n",
    "    output = model(images)\n",
    "    \n",
    "    _, predicted = torch.max(output.data, 1)\n",
    "    total += 1\n",
    "    correct += (predicted == label).sum()\n",
    "    \n",
    "print('Accuracy: %d' % (100 * float(correct) / ))"
   ]
  }
 ],
 "metadata": {
  "kernelspec": {
   "display_name": "Python 3",
   "language": "python",
   "name": "python3"
  },
  "language_info": {
   "codemirror_mode": {
    "name": "ipython",
    "version": 3
   },
   "file_extension": ".py",
   "mimetype": "text/x-python",
   "name": "python",
   "nbconvert_exporter": "python",
   "pygments_lexer": "ipython3",
   "version": "3.6.8"
  }
 },
 "nbformat": 4,
 "nbformat_minor": 2
}
