{
 "cells": [
  {
   "cell_type": "code",
   "execution_count": 1,
   "metadata": {},
   "outputs": [],
   "source": [
    "import torch\n",
    "import torch.nn as nn\n",
    "import torch.utils.data as Data\n",
    "\n",
    "import random\n",
    "import numpy as np\n",
    "import pandas as pd\n",
    "\n",
    "import sklearn.metrics as metrics"
   ]
  },
  {
   "cell_type": "code",
   "execution_count": 3,
   "metadata": {},
   "outputs": [],
   "source": [
    "import matplotlib.pyplot as plt\n",
    "%matplotlib inline"
   ]
  },
  {
   "cell_type": "markdown",
   "metadata": {},
   "source": [
    "# Prepare Data"
   ]
  },
  {
   "cell_type": "code",
   "execution_count": 4,
   "metadata": {},
   "outputs": [
    {
     "data": {
      "text/html": [
       "<div>\n",
       "<style scoped>\n",
       "    .dataframe tbody tr th:only-of-type {\n",
       "        vertical-align: middle;\n",
       "    }\n",
       "\n",
       "    .dataframe tbody tr th {\n",
       "        vertical-align: top;\n",
       "    }\n",
       "\n",
       "    .dataframe thead th {\n",
       "        text-align: right;\n",
       "    }\n",
       "</style>\n",
       "<table border=\"1\" class=\"dataframe\">\n",
       "  <thead>\n",
       "    <tr style=\"text-align: right;\">\n",
       "      <th></th>\n",
       "      <th>date</th>\n",
       "      <th>price</th>\n",
       "    </tr>\n",
       "  </thead>\n",
       "  <tbody>\n",
       "    <tr>\n",
       "      <th>0</th>\n",
       "      <td>2013-01-02 0:00</td>\n",
       "      <td>13.40000</td>\n",
       "    </tr>\n",
       "    <tr>\n",
       "      <th>1</th>\n",
       "      <td>2013-01-04 0:00</td>\n",
       "      <td>13.48986</td>\n",
       "    </tr>\n",
       "    <tr>\n",
       "      <th>2</th>\n",
       "      <td>2013-01-06 0:00</td>\n",
       "      <td>13.52999</td>\n",
       "    </tr>\n",
       "    <tr>\n",
       "      <th>3</th>\n",
       "      <td>2013-01-08 0:00</td>\n",
       "      <td>13.83000</td>\n",
       "    </tr>\n",
       "    <tr>\n",
       "      <th>4</th>\n",
       "      <td>2013-01-10 0:00</td>\n",
       "      <td>14.32000</td>\n",
       "    </tr>\n",
       "  </tbody>\n",
       "</table>\n",
       "</div>"
      ],
      "text/plain": [
       "              date     price\n",
       "0  2013-01-02 0:00  13.40000\n",
       "1  2013-01-04 0:00  13.48986\n",
       "2  2013-01-06 0:00  13.52999\n",
       "3  2013-01-08 0:00  13.83000\n",
       "4  2013-01-10 0:00  14.32000"
      ]
     },
     "execution_count": 4,
     "metadata": {},
     "output_type": "execute_result"
    }
   ],
   "source": [
    "raw_data = pd.read_csv('./data/bitcoin_data.csv')\n",
    "raw_data.head()"
   ]
  },
  {
   "cell_type": "code",
   "execution_count": 5,
   "metadata": {},
   "outputs": [
    {
     "data": {
      "text/plain": [
       "906"
      ]
     },
     "execution_count": 5,
     "metadata": {},
     "output_type": "execute_result"
    }
   ],
   "source": [
    "len(raw_data)"
   ]
  },
  {
   "cell_type": "code",
   "execution_count": 6,
   "metadata": {},
   "outputs": [
    {
     "data": {
      "text/html": [
       "<div>\n",
       "<style scoped>\n",
       "    .dataframe tbody tr th:only-of-type {\n",
       "        vertical-align: middle;\n",
       "    }\n",
       "\n",
       "    .dataframe tbody tr th {\n",
       "        vertical-align: top;\n",
       "    }\n",
       "\n",
       "    .dataframe thead th {\n",
       "        text-align: right;\n",
       "    }\n",
       "</style>\n",
       "<table border=\"1\" class=\"dataframe\">\n",
       "  <thead>\n",
       "    <tr style=\"text-align: right;\">\n",
       "      <th></th>\n",
       "      <th>date</th>\n",
       "      <th>price</th>\n",
       "    </tr>\n",
       "  </thead>\n",
       "  <tbody>\n",
       "    <tr>\n",
       "      <th>500</th>\n",
       "      <td>2015-09-29 0:00</td>\n",
       "      <td>237.68</td>\n",
       "    </tr>\n",
       "    <tr>\n",
       "      <th>501</th>\n",
       "      <td>2015-10-01 0:00</td>\n",
       "      <td>238.98</td>\n",
       "    </tr>\n",
       "    <tr>\n",
       "      <th>502</th>\n",
       "      <td>2015-10-03 0:00</td>\n",
       "      <td>239.17</td>\n",
       "    </tr>\n",
       "    <tr>\n",
       "      <th>503</th>\n",
       "      <td>2015-10-05 0:00</td>\n",
       "      <td>239.22</td>\n",
       "    </tr>\n",
       "    <tr>\n",
       "      <th>504</th>\n",
       "      <td>2015-10-07 0:00</td>\n",
       "      <td>245.25</td>\n",
       "    </tr>\n",
       "    <tr>\n",
       "      <th>505</th>\n",
       "      <td>2015-10-09 0:00</td>\n",
       "      <td>244.78</td>\n",
       "    </tr>\n",
       "    <tr>\n",
       "      <th>506</th>\n",
       "      <td>2015-10-11 0:00</td>\n",
       "      <td>248.08</td>\n",
       "    </tr>\n",
       "    <tr>\n",
       "      <th>507</th>\n",
       "      <td>2015-10-13 0:00</td>\n",
       "      <td>249.58</td>\n",
       "    </tr>\n",
       "    <tr>\n",
       "      <th>508</th>\n",
       "      <td>2015-10-15 0:00</td>\n",
       "      <td>254.73</td>\n",
       "    </tr>\n",
       "    <tr>\n",
       "      <th>509</th>\n",
       "      <td>2015-10-17 0:00</td>\n",
       "      <td>269.07</td>\n",
       "    </tr>\n",
       "  </tbody>\n",
       "</table>\n",
       "</div>"
      ],
      "text/plain": [
       "                date   price\n",
       "500  2015-09-29 0:00  237.68\n",
       "501  2015-10-01 0:00  238.98\n",
       "502  2015-10-03 0:00  239.17\n",
       "503  2015-10-05 0:00  239.22\n",
       "504  2015-10-07 0:00  245.25\n",
       "505  2015-10-09 0:00  244.78\n",
       "506  2015-10-11 0:00  248.08\n",
       "507  2015-10-13 0:00  249.58\n",
       "508  2015-10-15 0:00  254.73\n",
       "509  2015-10-17 0:00  269.07"
      ]
     },
     "execution_count": 6,
     "metadata": {},
     "output_type": "execute_result"
    }
   ],
   "source": [
    "sample_data = raw_data[500:510]\n",
    "sample_data"
   ]
  },
  {
   "cell_type": "code",
   "execution_count": 7,
   "metadata": {},
   "outputs": [
    {
     "data": {
      "image/png": "[encoded data removed]",
      "text/plain": [
       "<Figure size 864x576 with 1 Axes>"
      ]
     },
     "metadata": {
      "needs_background": "light"
     },
     "output_type": "display_data"
    }
   ],
   "source": [
    "plt.figure(figsize=(12, 8))\n",
    "plt.plot(sample_data['date'], sample_data['price'], 'o-')\n",
    "plt.title(\"Bitcoin Price\", fontdict={'size': 15})\n",
    "plt.xlabel('Date', fontdict={'size': 15})\n",
    "plt.ylabel('Price', fontdict={'size': 15})\n",
    "plt.show()"
   ]
  },
  {
   "cell_type": "code",
   "execution_count": 8,
   "metadata": {},
   "outputs": [],
   "source": [
    "train_data = raw_data['price'][:800]\n",
    "test_data = raw_data['price'][800:]"
   ]
  },
  {
   "cell_type": "markdown",
   "metadata": {},
   "source": [
    "# Define Model"
   ]
  },
  {
   "cell_type": "code",
   "execution_count": 9,
   "metadata": {},
   "outputs": [],
   "source": [
    "class RNN(nn.Module):\n",
    "    def __init__(self, input_size, hidden_size, output_size, num_layers):\n",
    "        super(RNN, self).__init__()\n",
    "        self.input_size = input_size\n",
    "        self.hidden_size = hidden_size\n",
    "        self.output_size = output_size\n",
    "        self.num_layers = num_layers\n",
    "        \n",
    "        self.rnn = nn.RNN(input_size, hidden_size, num_layers, nonlinearity='relu', batch_first = True)\n",
    "        self.fc = nn.Linear(hidden_size, output_size)\n",
    "        \n",
    "    def forward(self, input, hidden):\n",
    "        out, hidden = self.rnn(input, hidden)\n",
    "        fc_out = self.fc(out)\n",
    "        return fc_out, hidden\n",
    "    \n",
    "    def init_hidden(self, batch_size):\n",
    "        hidden = torch.zeros(self.num_layers, batch_size, self.hidden_size)\n",
    "        # cuda -> hidden = torch.zeros(self.num_layers, batch_size, self.hidden_size).cuda()\n",
    "        return hidden"
   ]
  },
  {
   "cell_type": "code",
   "execution_count": 10,
   "metadata": {},
   "outputs": [],
   "source": [
    "seq_len = 10\n",
    "num_layers = 2"
   ]
  },
  {
   "cell_type": "code",
   "execution_count": 11,
   "metadata": {},
   "outputs": [],
   "source": [
    "model = RNN(1, 32, 1, num_layers)\n",
    "# cuda -> model = RNN(1, 32, 1, num_layers).cuda()"
   ]
  },
  {
   "cell_type": "markdown",
   "metadata": {},
   "source": [
    "# Data Preprocessing"
   ]
  },
  {
   "cell_type": "code",
   "execution_count": 15,
   "metadata": {},
   "outputs": [],
   "source": [
    "x = train_data[0:seq_len].values\n",
    "y = train_data[1:seq_len+1].values\n",
    "for sp in range(1, len(train_data) - seq_len):\n",
    "    x = np.vstack((x, train_data[sp:sp+seq_len].values))\n",
    "    y = np.vstack((y, train_data[sp+1:sp+seq_len+1].values))"
   ]
  },
  {
   "cell_type": "code",
   "execution_count": 16,
   "metadata": {},
   "outputs": [],
   "source": [
    "x = torch.from_numpy(x).type(torch.FloatTensor)\n",
    "y = torch.from_numpy(y).type(torch.FloatTensor)"
   ]
  },
  {
   "cell_type": "code",
   "execution_count": 17,
   "metadata": {},
   "outputs": [],
   "source": [
    "train_data = Data.TensorDataset(x, y)\n",
    "batch_size = 10\n",
    "\n",
    "train_loader = Data.DataLoader(dataset=train_data, batch_size=batch_size, shuffle=True, drop_last=True)"
   ]
  },
  {
   "cell_type": "markdown",
   "metadata": {},
   "source": [
    "# Train Model"
   ]
  },
  {
   "cell_type": "code",
   "execution_count": 19,
   "metadata": {},
   "outputs": [],
   "source": [
    "optimizer = torch.optim.Adam(model.parameters(), lr=0.001)\n",
    "loss = nn.MSELoss()"
   ]
  },
  {
   "cell_type": "code",
   "execution_count": 20,
   "metadata": {},
   "outputs": [],
   "source": [
    "num_epochs = 10"
   ]
  },
  {
   "cell_type": "code",
   "execution_count": 21,
   "metadata": {},
   "outputs": [
    {
     "name": "stdout",
     "output_type": "stream",
     "text": [
      "Epoch [1/10], lter [20/79], Loss: 225080.6250\n",
      "Epoch [1/10], lter [40/79], Loss: 24882.7539\n",
      "Epoch [1/10], lter [60/79], Loss: 13646.8369\n",
      "Epoch [2/10], lter [20/79], Loss: 1587.5768\n",
      "Epoch [2/10], lter [40/79], Loss: 638.4503\n",
      "Epoch [2/10], lter [60/79], Loss: 372.2773\n",
      "Epoch [3/10], lter [20/79], Loss: 1672.0828\n",
      "Epoch [3/10], lter [40/79], Loss: 1682.8485\n",
      "Epoch [3/10], lter [60/79], Loss: 3403.0566\n",
      "Epoch [4/10], lter [20/79], Loss: 673.6875\n",
      "Epoch [4/10], lter [40/79], Loss: 383.9826\n",
      "Epoch [4/10], lter [60/79], Loss: 401.4507\n",
      "Epoch [5/10], lter [20/79], Loss: 204.6481\n",
      "Epoch [5/10], lter [40/79], Loss: 595.2732\n",
      "Epoch [5/10], lter [60/79], Loss: 2257.7212\n",
      "Epoch [6/10], lter [20/79], Loss: 3021.7156\n",
      "Epoch [6/10], lter [40/79], Loss: 542.3317\n",
      "Epoch [6/10], lter [60/79], Loss: 3097.5007\n",
      "Epoch [7/10], lter [20/79], Loss: 548.3247\n",
      "Epoch [7/10], lter [40/79], Loss: 134.8180\n",
      "Epoch [7/10], lter [60/79], Loss: 363.2974\n",
      "Epoch [8/10], lter [20/79], Loss: 685.9563\n",
      "Epoch [8/10], lter [40/79], Loss: 282.2995\n",
      "Epoch [8/10], lter [60/79], Loss: 793.2058\n",
      "Epoch [9/10], lter [20/79], Loss: 195.5493\n",
      "Epoch [9/10], lter [40/79], Loss: 3655.4861\n",
      "Epoch [9/10], lter [60/79], Loss: 929.5669\n",
      "Epoch [10/10], lter [20/79], Loss: 283.9908\n",
      "Epoch [10/10], lter [40/79], Loss: 3832.6704\n",
      "Epoch [10/10], lter [60/79], Loss: 2081.5254\n",
      "Learning Finished!\n"
     ]
    }
   ],
   "source": [
    "for epoch in range(num_epochs):\n",
    "    total_batch = len(train_data) // batch_size\n",
    "    \n",
    "    for i, (batch_values, batch_labels) in enumerate(train_loader):\n",
    "        hidden = model.init_hidden(batch_size)\n",
    "        \n",
    "        X = batch_values.view(-1, seq_len, 1)\n",
    "        # cuda -> X = batch_values.view(-1, seq_len, 1).cuda()\n",
    "        Y = batch_labels.view(-1, seq_len, 1)\n",
    "        # cuda -> Y = batch_labels.view(-1, seq_len, 1).cuda()\n",
    "        \n",
    "        pre, hidden = model(X, hidden)\n",
    "        cost = loss(pre, Y)\n",
    "        \n",
    "        optimizer.zero_grad()\n",
    "        cost.backward()\n",
    "        \n",
    "        nn.utils.clip_grad_norm_(model.parameters(), 5)\n",
    "        \n",
    "        optimizer.step()\n",
    "        \n",
    "        if (i+1) % 20 == 0:\n",
    "            print('Epoch [%d/%d], lter [%d/%d], Loss: %.4f'\n",
    "                 %(epoch+1, num_epochs, i+1, total_batch, cost.item()))\n",
    "    \n",
    "print(\"Learning Finished!\")"
   ]
  },
  {
   "cell_type": "markdown",
   "metadata": {},
   "source": [
    "# Test Model"
   ]
  },
  {
   "cell_type": "code",
   "execution_count": 22,
   "metadata": {},
   "outputs": [],
   "source": [
    "model.eval()\n",
    "\n",
    "hidden = model.init_hidden(1)\n",
    "\n",
    "X = torch.from_numpy(test_data[0:seq_len].values).type(torch.FloatTensor).view(1, seq_len, 1)\n",
    "# cuda -> X = torch.from_numpy(test_data[0:seq_len].values).type(torch.FloatTensor).cuda().view(1, seq_len, 1)\n",
    "y, hidden = model(X, hidden)"
   ]
  },
  {
   "cell_type": "code",
   "execution_count": 23,
   "metadata": {},
   "outputs": [],
   "source": [
    "data = test_data[1:seq_len].values\n",
    "pre = y.reshape(-1)[0:-1]\n",
    "pre = pre.cpu().data.numpy()"
   ]
  },
  {
   "cell_type": "code",
   "execution_count": 24,
   "metadata": {},
   "outputs": [
    {
     "data": {
      "image/png": "[encoded data removed]",
      "text/plain": [
       "<Figure size 864x576 with 1 Axes>"
      ]
     },
     "metadata": {
      "needs_background": "light"
     },
     "output_type": "display_data"
    }
   ],
   "source": [
    "plt.figure(figsize=(12, 8))\n",
    "\n",
    "plt.plot(raw_data['date'][801:801+seq_len-1], data,'o-', alpha=0.7)\n",
    "plt.plot(raw_data['date'][801:801+seq_len-1], pre, '*-', alpha=0.7)\n",
    "\n",
    "plt.title(\"Predict & Real\", fontdict={'size':15})\n",
    "\n",
    "plt.xlabel('Date', fontdict={'size':12})\n",
    "plt.xticks([])\n",
    "\n",
    "plt.ylabel('Price', fontdict={'size':12})\n",
    "\n",
    "\n",
    "plt.show()"
   ]
  },
  {
   "cell_type": "code",
   "execution_count": null,
   "metadata": {},
   "outputs": [],
   "source": []
  }
 ],
 "metadata": {
  "kernelspec": {
   "display_name": "Python 3",
   "language": "python",
   "name": "python3"
  },
  "language_info": {
   "codemirror_mode": {
    "name": "ipython",
    "version": 3
   },
   "file_extension": ".py",
   "mimetype": "text/x-python",
   "name": "python",
   "nbconvert_exporter": "python",
   "pygments_lexer": "ipython3",
   "version": "3.6.8"
  }
 },
 "nbformat": 4,
 "nbformat_minor": 2
}
